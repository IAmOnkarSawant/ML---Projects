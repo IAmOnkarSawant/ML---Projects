{
  "cells": [
    {
      "cell_type": "markdown",
      "metadata": {
        "id": "T8GYzpkuUcs6"
      },
      "source": [
        "### Clustering\n",
        "\n",
        "You will be performing kmeans clustering on the same product reviews dataset from Part 1. In this question, instead of statistically computing features, you will use the embeddings obtained from a neural sentiment analysis model (huggingface: siebert/sentiment-roberta-large-english).\n",
        "\n",
        "You can use sklearn for this question. Your tasks are as follows:\n",
        "\n",
        "\n",
        "1. Perform kmeans clustering using sklearn. Try various values for number of clusters (k) and plot the elbow curve. For each value of k, plot WCSS (Within-Cluster Sum of Square). WCSS is the sum of the squared distance between each point and the centroid in a cluster.\n",
        "1. Perform task 1 with cluster initialisation methods [k-means++, forgy (\"random\" in sklearn)].\n",
        "1. In this case, since the ground truth labels (star rating) are available we can evaluate the clustering using metrics like purity, nmi and rand score. Implement these metrics from scratch and evaluate the clustering. [Reference](https://nlp.stanford.edu/IR-book/html/htmledition/evaluation-of-clustering-1.html)"
      ]
    },
    {
      "cell_type": "code",
      "execution_count": null,
      "metadata": {
        "id": "cNCDQYYm8oFF"
      },
      "outputs": [],
      "source": [
        "import gzip\n",
        "import numpy as np\n",
        "from sklearn.cluster import KMeans\n",
        "import matplotlib.pyplot as plt\n",
        "from scipy.stats import mode\n",
        "from sklearn.metrics import normalized_mutual_info_score, adjusted_rand_score\n",
        "from scipy.spatial.distance import cdist"
      ]
    },
    {
      "cell_type": "code",
      "execution_count": null,
      "metadata": {
        "colab": {
          "base_uri": "https://localhost:8080/"
        },
        "id": "5ddsz-nxGvfE",
        "outputId": "d5af5b5a-84ac-4869-8194-54139c0912aa"
      },
      "outputs": [
        {
          "name": "stdout",
          "output_type": "stream",
          "text": [
            "(26661, 1024)\n"
          ]
        }
      ],
      "source": [
        "f = gzip.GzipFile('/content/drive/MyDrive/SMAI FOLDERS Assignment 2/Copy of roberta_embeds.npy.gz', \"r\")\n",
        "embeds = np.load(f)\n",
        "print(embeds.shape)"
      ]
    },
    {
      "cell_type": "code",
      "execution_count": null,
      "metadata": {
        "id": "3hm1pRRAe90g"
      },
      "outputs": [],
      "source": [
        "def calculate_wcss(data, kmeans):\n",
        "    wcss = sum(np.min(cdist(data, kmeans.cluster_centers_, 'euclidean'), axis=1)) / data.shape[0]\n",
        "    return wcss"
      ]
    },
    {
      "cell_type": "code",
      "execution_count": null,
      "metadata": {
        "id": "GcXeXvmjAFMj"
      },
      "outputs": [],
      "source": [
        "def compute_purity(y_true, y_pred):\n",
        "    contingency_matrix = {}\n",
        "    for true, pred in zip(y_true, y_pred):\n",
        "        if pred not in contingency_matrix:\n",
        "            contingency_matrix[pred] = {}\n",
        "        if true not in contingency_matrix[pred]:\n",
        "            contingency_matrix[pred][true] = 0\n",
        "        contingency_matrix[pred][true] += 1\n",
        "\n",
        "    # Compute purity\n",
        "    total = sum(sum(values.values()) for values in contingency_matrix.values())\n",
        "    purity = sum(max(values.values()) for values in contingency_matrix.values()) / total\n",
        "    return purity\n"
      ]
    },
    {
      "cell_type": "code",
      "execution_count": null,
      "metadata": {
        "id": "gFtIZLSn_9jX"
      },
      "outputs": [],
      "source": [
        "import numpy as np\n",
        "\n",
        "def compute_entropy(labels):\n",
        "    _, label_counts = np.unique(labels, return_counts=True)\n",
        "    probabilities = label_counts / label_counts.sum()\n",
        "    entropy = -np.sum(probabilities * np.log(probabilities))\n",
        "    return entropy\n",
        "\n",
        "def compute_mutual_information(y_true, y_pred):\n",
        "    total = len(y_true)\n",
        "    true_labels, pred_labels = np.unique(y_true), np.unique(y_pred)\n",
        "    mi = 0\n",
        "    for true_label in true_labels:\n",
        "        for pred_label in pred_labels:\n",
        "            intersection = np.logical_and(y_true == true_label, y_pred == pred_label).sum()\n",
        "            if intersection > 0:\n",
        "                p_true = np.sum(y_true == true_label) / total\n",
        "                p_pred = np.sum(y_pred == pred_label) / total\n",
        "                p_joint = intersection / total\n",
        "                mi += p_joint * np.log(p_joint / (p_true * p_pred))\n",
        "    return mi\n",
        "\n",
        "def compute_nmi(y_true, y_pred):\n",
        "    # Mutual information is used to assess the quality of clustering by evaluating how much information about the true labels is gained by observing the cluster assignments\n",
        "    mi = compute_mutual_information(y_true, y_pred)\n",
        "    entropy_true = compute_entropy(y_true)\n",
        "    entropy_pred = compute_entropy(y_pred)\n",
        "    nmi = mi / np.sqrt(entropy_true * entropy_pred)\n",
        "    return nmi"
      ]
    },
    {
      "cell_type": "code",
      "execution_count": null,
      "metadata": {
        "id": "G24OJT3wAIx3"
      },
      "outputs": [],
      "source": [
        "def compute_rand_index(y_true, y_pred):\n",
        "    # how well the clustering matches the true labels, independent of the absolute label values\n",
        "    from itertools import combinations\n",
        "    pairs = list(combinations(range(len(y_true)), 2))\n",
        "    tp_plus_fp = sum(1 for i, j in pairs if y_pred[i] == y_pred[j])\n",
        "    tp_plus_fn = sum(1 for i, j in pairs if y_true[i] == y_true[j])\n",
        "    tp = sum(1 for i, j in pairs if y_pred[i] == y_pred[j] and y_true[i] == y_true[j])\n",
        "    total_pairs = len(pairs)\n",
        "    fp = tp_plus_fp - tp\n",
        "    fn = tp_plus_fn - tp\n",
        "    tn = total_pairs - tp - fp - fn\n",
        "    ri = (tp + tn) / total_pairs\n",
        "    return ri\n"
      ]
    },
    {
      "cell_type": "code",
      "execution_count": null,
      "metadata": {
        "colab": {
          "base_uri": "https://localhost:8080/"
        },
        "id": "wCNbb62I9Djn",
        "outputId": "4ecf2abb-c0ec-4155-f8a0-881720d7f4ad"
      },
      "outputs": [
        {
          "name": "stderr",
          "output_type": "stream",
          "text": [
            "/usr/local/lib/python3.10/dist-packages/sklearn/cluster/_kmeans.py:870: FutureWarning: The default value of `n_init` will change from 10 to 'auto' in 1.4. Set the value of `n_init` explicitly to suppress the warning\n",
            "  warnings.warn(\n"
          ]
        },
        {
          "name": "stdout",
          "output_type": "stream",
          "text": [
            "{4: array([1, 2, 1, ..., 2, 2, 2], dtype=int32)}\n"
          ]
        }
      ],
      "source": [
        "wcss = []\n",
        "labels_kmeanspp = {}\n",
        "\n",
        "ks = range(2, 11)\n",
        "for k in ks:\n",
        "    kmeans = KMeans(n_clusters=k, init='k-means++', random_state=42).fit(embeds)\n",
        "    wcss.append(kmeans.inertia_)\n",
        "    labels_kmeanspp[k] = kmeans.labels_\n",
        "\n",
        "plt.figure(figsize=(10, 6))\n",
        "plt.plot(ks, wcss, '-o')\n",
        "plt.title('Elbow Curve using k-means++ initialization')\n",
        "plt.xlabel('Number of clusters, k')\n",
        "plt.ylabel('WCSS')\n",
        "plt.xticks(ks)\n",
        "plt.show()\n",
        "\n",
        "plt.tight_layout()\n",
        "plt.show()\n",
        "\n",
        "print(labels_kmeanspp)"
      ]
    },
    {
      "cell_type": "code",
      "execution_count": null,
      "metadata": {
        "colab": {
          "base_uri": "https://localhost:8080/",
          "height": 929
        },
        "id": "gYO2LiwH9tQt",
        "outputId": "3216db4e-d0ce-4c3d-df06-98090d92d40d"
      },
      "outputs": [
        {
          "name": "stderr",
          "output_type": "stream",
          "text": [
            "/usr/local/lib/python3.10/dist-packages/sklearn/cluster/_kmeans.py:870: FutureWarning: The default value of `n_init` will change from 10 to 'auto' in 1.4. Set the value of `n_init` explicitly to suppress the warning\n",
            "  warnings.warn(\n",
            "/usr/local/lib/python3.10/dist-packages/sklearn/cluster/_kmeans.py:870: FutureWarning: The default value of `n_init` will change from 10 to 'auto' in 1.4. Set the value of `n_init` explicitly to suppress the warning\n",
            "  warnings.warn(\n",
            "/usr/local/lib/python3.10/dist-packages/sklearn/cluster/_kmeans.py:870: FutureWarning: The default value of `n_init` will change from 10 to 'auto' in 1.4. Set the value of `n_init` explicitly to suppress the warning\n",
            "  warnings.warn(\n",
            "/usr/local/lib/python3.10/dist-packages/sklearn/cluster/_kmeans.py:870: FutureWarning: The default value of `n_init` will change from 10 to 'auto' in 1.4. Set the value of `n_init` explicitly to suppress the warning\n",
            "  warnings.warn(\n",
            "/usr/local/lib/python3.10/dist-packages/sklearn/cluster/_kmeans.py:870: FutureWarning: The default value of `n_init` will change from 10 to 'auto' in 1.4. Set the value of `n_init` explicitly to suppress the warning\n",
            "  warnings.warn(\n",
            "/usr/local/lib/python3.10/dist-packages/sklearn/cluster/_kmeans.py:870: FutureWarning: The default value of `n_init` will change from 10 to 'auto' in 1.4. Set the value of `n_init` explicitly to suppress the warning\n",
            "  warnings.warn(\n",
            "/usr/local/lib/python3.10/dist-packages/sklearn/cluster/_kmeans.py:870: FutureWarning: The default value of `n_init` will change from 10 to 'auto' in 1.4. Set the value of `n_init` explicitly to suppress the warning\n",
            "  warnings.warn(\n",
            "/usr/local/lib/python3.10/dist-packages/sklearn/cluster/_kmeans.py:870: FutureWarning: The default value of `n_init` will change from 10 to 'auto' in 1.4. Set the value of `n_init` explicitly to suppress the warning\n",
            "  warnings.warn(\n",
            "/usr/local/lib/python3.10/dist-packages/sklearn/cluster/_kmeans.py:870: FutureWarning: The default value of `n_init` will change from 10 to 'auto' in 1.4. Set the value of `n_init` explicitly to suppress the warning\n",
            "  warnings.warn(\n"
          ]
        },
        {
          "data": {
            "image/png": "[encoded data removed]",
            "text/plain": [
              "<Figure size 1000x600 with 1 Axes>"
            ]
          },
          "metadata": {},
          "output_type": "display_data"
        },
        {
          "name": "stdout",
          "output_type": "stream",
          "text": [
            "{2: array([1, 0, 1, ..., 0, 0, 0], dtype=int32), 3: array([1, 0, 1, ..., 0, 0, 0], dtype=int32), 4: array([3, 1, 3, ..., 1, 1, 1], dtype=int32), 5: array([4, 2, 4, ..., 2, 2, 2], dtype=int32), 6: array([1, 5, 1, ..., 5, 5, 5], dtype=int32), 7: array([6, 5, 6, ..., 3, 5, 5], dtype=int32), 8: array([7, 5, 7, ..., 3, 5, 5], dtype=int32), 9: array([7, 8, 7, ..., 5, 8, 8], dtype=int32), 10: array([7, 8, 7, ..., 5, 8, 8], dtype=int32)}\n"
          ]
        }
      ],
      "source": [
        "wcss_random = []\n",
        "labels_random = {}\n",
        "\n",
        "for k in ks:\n",
        "    kmeans_random = KMeans(n_clusters=k, init='random', random_state=42).fit(embeds)\n",
        "    wcss_random.append(kmeans_random.inertia_)\n",
        "    labels_random[k] = kmeans_random.labels_\n",
        "\n",
        "plt.figure(figsize=(10, 6))\n",
        "plt.plot(ks, wcss_random, '-o', color='red')\n",
        "plt.title('Elbow Curve using random initialization')\n",
        "plt.xlabel('Number of clusters, k')\n",
        "plt.ylabel('WCSS')\n",
        "plt.xticks(ks)\n",
        "plt.show()\n",
        "\n",
        "print(labels_random)"
      ]
    },
    {
      "cell_type": "code",
      "execution_count": null,
      "metadata": {
        "colab": {
          "base_uri": "https://localhost:8080/"
        },
        "id": "v9cyQr57AVIP",
        "outputId": "3414e7e4-792b-4ef8-c7f0-13ffdf73415e"
      },
      "outputs": [
        {
          "name": "stdout",
          "output_type": "stream",
          "text": [
            "Kmeans++\n",
            "\n",
            "Purity: 0.7132\n",
            "Normalized Mutual Information (NMI): 0.5200\n",
            "Rand Index (RI): 0.4815\n"
          ]
        }
      ],
      "source": [
        "print(\"Kmeans++\\n\")\n",
        "\n",
        "purity = compute_purity(data['stars'], labels_kmeanspp[4])\n",
        "nmi = normalized_mutual_info_score(data['stars'], labels_kmeanspp[4])\n",
        "ri = adjusted_rand_score(data['stars'], labels_kmeanspp[4])\n",
        "\n",
        "print(f\"Purity: {purity:.4f}\")\n",
        "print(f\"Normalized Mutual Information (NMI): {nmi:.4f}\")\n",
        "print(f\"Rand Index (RI): {ri:.4f}\")"
      ]
    },
    {
      "cell_type": "code",
      "execution_count": null,
      "metadata": {
        "colab": {
          "base_uri": "https://localhost:8080/"
        },
        "id": "ZhBiDJ6vMwMW",
        "outputId": "f478786c-a7a6-4086-f8d8-0cc84fb22ec4"
      },
      "outputs": [
        {
          "name": "stdout",
          "output_type": "stream",
          "text": [
            "Random initialisation\n",
            "\n",
            "Purity: 0.7132\n",
            "Normalized Mutual Information (NMI): 0.5200\n",
            "Rand Index (RI): 0.4815\n"
          ]
        }
      ],
      "source": [
        "print(\"Random initialisation\\n\")\n",
        "\n",
        "purity = compute_purity(data['stars'], labels_random[4])\n",
        "nmi = normalized_mutual_info_score(data['stars'], labels_random[4])\n",
        "ri = adjusted_rand_score(data['stars'], labels_random[4])\n",
        "\n",
        "print(f\"Purity: {purity:.4f}\")\n",
        "print(f\"Normalized Mutual Information (NMI): {nmi:.4f}\")\n",
        "print(f\"Rand Index (RI): {ri:.4f}\")"
      ]
    }
  ],
  "metadata": {
    "colab": {
      "provenance": []
    },
    "kernelspec": {
      "display_name": "Python 3",
      "name": "python3"
    },
    "language_info": {
      "name": "python"
    }
  },
  "nbformat": 4,
  "nbformat_minor": 0
}
